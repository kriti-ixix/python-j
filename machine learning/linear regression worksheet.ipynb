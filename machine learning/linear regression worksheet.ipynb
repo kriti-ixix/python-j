{
 "cells": [
  {
   "cell_type": "markdown",
   "id": "8c61c6de",
   "metadata": {},
   "source": [
    "# Linear Regression Worksheet\n",
    "\n",
    "On the basis of the data in the USA_Housing.csv, predict the prices of houses by applying Linear Regression on the dataset. Follow steps similar to the jupyter notebook shown in class for Ecommerce Purchases and get the errors of your algorithm. "
   ]
  },
  {
   "cell_type": "code",
   "execution_count": null,
   "id": "38b744f8",
   "metadata": {},
   "outputs": [],
   "source": []
  }
 ],
 "metadata": {
  "kernelspec": {
   "display_name": "Python 3",
   "language": "python",
   "name": "python3"
  },
  "language_info": {
   "codemirror_mode": {
    "name": "ipython",
    "version": 3
   },
   "file_extension": ".py",
   "mimetype": "text/x-python",
   "name": "python",
   "nbconvert_exporter": "python",
   "pygments_lexer": "ipython3",
   "version": "3.8.8"
  }
 },
 "nbformat": 4,
 "nbformat_minor": 5
}
